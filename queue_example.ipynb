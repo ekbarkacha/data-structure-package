{
 "cells": [
  {
   "cell_type": "markdown",
   "id": "ed268d51-8b19-4099-a15e-e9e6f591310c",
   "metadata": {},
   "source": [
    "# Importing Queue"
   ]
  },
  {
   "cell_type": "code",
   "execution_count": 10,
   "id": "d3814a57-0c0d-4a26-b3e0-57cab9a949a6",
   "metadata": {},
   "outputs": [],
   "source": [
    "from ek_data_structures.queue import Queue"
   ]
  },
  {
   "cell_type": "markdown",
   "id": "6a120007-0a9b-458f-84eb-0e1a60256c59",
   "metadata": {},
   "source": [
    "# Basic Operations Implementation In Queue\n",
    "\n",
    "Now we test basic operations in the `Queue` Class which include\n",
    "- `enqueue(item)` - Adds an item to the rear/end of the queue.\n",
    "- `dequeue()` - Removes and returns the front item.\n",
    "- `peek()` / front()` - Returns the front item without removing it.\n",
    "- `rear()` - Returns the rear/end item.\n",
    "- `is_full()` - Checks if the queue is full.\n",
    "- `is_empty()` - Checks if the queue is empty.\n",
    "- `display_queue()` - Displays the elements in the queue.\n",
    "\n",
    "# Example"
   ]
  },
  {
   "cell_type": "code",
   "execution_count": 11,
   "id": "fc451ce9-4f7b-417a-80ff-713d37aa4de4",
   "metadata": {},
   "outputs": [
    {
     "name": "stdout",
     "output_type": "stream",
     "text": [
      "[10, 20, 30]\n",
      "\n",
      "Try to enqueue when the queue is full:\n",
      "Error: Queue is full, cannot enqueue element\n",
      "\n",
      "Dequeue an element:\n",
      "Dequeued element: 10\n",
      "[20, 30]\n",
      "\n",
      "Peek at the front element:\n",
      "Front element: 20\n",
      "\n",
      "Get the rear element:\n",
      "Rear element: 30\n",
      "\n",
      "Check if the queue is full:\n",
      "Is the queue full? False\n",
      "\n",
      "Check if the queue is empty:\n",
      "Is the queue empty? False\n",
      "\n",
      "Check the size of the queue after dequeue twice:\n",
      "Is the queue empty now? True\n"
     ]
    }
   ],
   "source": [
    "# Create a queue with a max size of 3\n",
    "queue = Queue(max_size=3)\n",
    "\n",
    "# Enqueue elements\n",
    "queue.enqueue(10)\n",
    "queue.enqueue(20)\n",
    "queue.enqueue(30)\n",
    "queue.display_queue()\n",
    "\n",
    "\n",
    "# Try to enqueue when the queue is full\n",
    "print(\"\\nTry to enqueue when the queue is full:\")\n",
    "try:\n",
    "    queue.enqueue(40) \n",
    "except OverflowError as e:\n",
    "    print(f\"Error: {e}\")\n",
    "\n",
    "# Dequeue an element\n",
    "print(\"\\nDequeue an element:\")\n",
    "dequeued_element = queue.dequeue()\n",
    "print(f\"Dequeued element: {dequeued_element}\")\n",
    "queue.display_queue()\n",
    "\n",
    "# Peek at the front element\n",
    "print(\"\\nPeek at the front element:\")\n",
    "front_element = queue.peek()\n",
    "print(f\"Front element: {front_element}\")\n",
    "\n",
    "# Get the rear element\n",
    "print(\"\\nGet the rear element:\")\n",
    "rear_element = queue.rear()\n",
    "print(f\"Rear element: {rear_element}\")\n",
    "\n",
    "# Check if the queue is full\n",
    "print(\"\\nCheck if the queue is full:\")\n",
    "print(f\"Is the queue full? {queue.is_full()}\") \n",
    "\n",
    "# Check if the queue is empty\n",
    "print(\"\\nCheck if the queue is empty:\")\n",
    "print(f\"Is the queue empty? {queue.is_empty()}\")\n",
    "\n",
    "# Check the size of the queue\n",
    "print(\"\\nCheck the size of the queue after dequeue twice:\")\n",
    "queue.dequeue()\n",
    "queue.dequeue()\n",
    "print(f\"Is the queue empty now? {queue.is_empty()}\")\n"
   ]
  },
  {
   "cell_type": "code",
   "execution_count": null,
   "id": "7b180324-8071-40de-b5d6-20c56fc1d665",
   "metadata": {},
   "outputs": [],
   "source": []
  }
 ],
 "metadata": {
  "kernelspec": {
   "display_name": "Python 3 (ipykernel)",
   "language": "python",
   "name": "python3"
  },
  "language_info": {
   "codemirror_mode": {
    "name": "ipython",
    "version": 3
   },
   "file_extension": ".py",
   "mimetype": "text/x-python",
   "name": "python",
   "nbconvert_exporter": "python",
   "pygments_lexer": "ipython3",
   "version": "3.12.4"
  }
 },
 "nbformat": 4,
 "nbformat_minor": 5
}
