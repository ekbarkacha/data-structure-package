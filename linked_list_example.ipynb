{
 "cells": [
  {
   "cell_type": "markdown",
   "id": "0e29788e-1108-4895-945d-0e94636eefe2",
   "metadata": {},
   "source": [
    "# Importing Linked List"
   ]
  },
  {
   "cell_type": "code",
   "execution_count": 6,
   "id": "cbb76ea1-6d96-4301-8812-94ff83b4c58d",
   "metadata": {},
   "outputs": [],
   "source": [
    "from ek_data_structures.linked_list import LinkedList"
   ]
  },
  {
   "cell_type": "markdown",
   "id": "7ef1d07c-6123-44ff-bf21-4b538e55b983",
   "metadata": {},
   "source": [
    "# Basic Operations Implementation In Linked List\n",
    "\n",
    "Now we test basic operations in the `LinkedList` Class which include\n",
    "- `insert_start(item)` - Inserts an item at the beginning of the list.\n",
    "- `insert_after(item, index)` - Inserts an item after a specific node.\n",
    "- `insert_end(item)` - Inserts an item at the end of the list.\n",
    "- `delete_item(index)` - Deletes the item at specific index.\n",
    "- `display()` / `traverse()` - Displays the entire list.\n",
    "- `search(item)` - Searches for an item in the list and returns True if it exist else False.\n",
    "- `get_length()` - Returns the number of nodes in the list.\n",
    "- `access(index)` - Accesses the node at a specific index.\n",
    "- `update(index, item)` - Updates the node at a specific index with a new item.\n",
    "\n",
    "# Example"
   ]
  },
  {
   "cell_type": "code",
   "execution_count": 7,
   "id": "c8135ee7-cb06-43e3-9a63-bca50d059675",
   "metadata": {},
   "outputs": [
    {
     "name": "stdout",
     "output_type": "stream",
     "text": [
      "After inserting at the start:\n",
      "30 -> 20 -> 10 -> None\n",
      "\n",
      "After inserting 25 after index 1:\n",
      "30 -> 20 -> 25 -> 10 -> None\n",
      "\n",
      "After inserting 40 at the end:\n",
      "30 -> 20 -> 25 -> 10 -> 40 -> None\n",
      "\n",
      "After deleting item at index 2:\n",
      "30 -> 20 -> 10 -> 40 -> None\n",
      "\n",
      "Search for item 20: True\n",
      "Search for item 50: False\n",
      "\n",
      "Length of the linked list: 4\n",
      "\n",
      "Access data at index 1: 20\n",
      "Access data at index 5: None\n",
      "\n",
      "After updating item at index 1:\n",
      "30 -> 99 -> 10 -> 40 -> None\n",
      "\n",
      "Error: Index out of bounds.\n",
      "\n",
      "Error: Nothing to delete; linked list is empty.\n"
     ]
    }
   ],
   "source": [
    "ll = LinkedList()\n",
    "\n",
    "# Insert at the start\n",
    "ll.insert_start(10)\n",
    "ll.insert_start(20)\n",
    "ll.insert_start(30)\n",
    "print(\"After inserting at the start:\")\n",
    "ll.display()\n",
    "\n",
    "# Insert after a specific index\n",
    "ll.insert_after(25, 1)  \n",
    "print(\"\\nAfter inserting 25 after index 1:\")\n",
    "ll.display()\n",
    "\n",
    "# Insert at the end\n",
    "ll.insert_end(40)\n",
    "print(\"\\nAfter inserting 40 at the end:\")\n",
    "ll.display()\n",
    "\n",
    "# Delete an item at a specific index\n",
    "ll.delete_item(2)\n",
    "print(\"\\nAfter deleting item at index 2:\")\n",
    "ll.display()\n",
    "\n",
    "# Search for a specific item\n",
    "print(\"\\nSearch for item 20:\", ll.search(20))\n",
    "print(\"Search for item 50:\", ll.search(50))\n",
    "\n",
    "# Get the length of the list\n",
    "print(\"\\nLength of the linked list:\", ll.get_length())\n",
    "\n",
    "# Access data by index\n",
    "print(\"\\nAccess data at index 1:\", ll.access(1))  \n",
    "print(\"Access data at index 5:\", ll.access(5))\n",
    "\n",
    "# Update a node's data\n",
    "ll.update(1, 99)\n",
    "print(\"\\nAfter updating item at index 1:\")\n",
    "ll.display()\n",
    "\n",
    "# Handle out-of-bounds index\n",
    "try:\n",
    "    ll.update(10, 100)\n",
    "except IndexError as e:\n",
    "    print(\"\\nError:\", e)\n",
    "\n",
    "# Handle deleting from an empty list\n",
    "empty_ll = LinkedList()\n",
    "try:\n",
    "    empty_ll.delete_item(0)\n",
    "except IndexError as e:\n",
    "    print(\"\\nError:\", e)\n"
   ]
  },
  {
   "cell_type": "code",
   "execution_count": null,
   "id": "c8dc7a81-0739-47c5-abb8-53a3f7c36916",
   "metadata": {},
   "outputs": [],
   "source": []
  }
 ],
 "metadata": {
  "kernelspec": {
   "display_name": "Python 3 (ipykernel)",
   "language": "python",
   "name": "python3"
  },
  "language_info": {
   "codemirror_mode": {
    "name": "ipython",
    "version": 3
   },
   "file_extension": ".py",
   "mimetype": "text/x-python",
   "name": "python",
   "nbconvert_exporter": "python",
   "pygments_lexer": "ipython3",
   "version": "3.12.4"
  }
 },
 "nbformat": 4,
 "nbformat_minor": 5
}
