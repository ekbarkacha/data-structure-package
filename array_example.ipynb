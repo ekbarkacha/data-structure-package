{
 "cells": [
  {
   "cell_type": "markdown",
   "id": "0e29788e-1108-4895-945d-0e94636eefe2",
   "metadata": {},
   "source": [
    "# Importing Array"
   ]
  },
  {
   "cell_type": "code",
   "execution_count": 4,
   "id": "cbb76ea1-6d96-4301-8812-94ff83b4c58d",
   "metadata": {},
   "outputs": [],
   "source": [
    "from ek_data_structures.array import Array"
   ]
  },
  {
   "cell_type": "markdown",
   "id": "7ef1d07c-6123-44ff-bf21-4b538e55b983",
   "metadata": {},
   "source": [
    "# Basic Operations Implementation In Array\n",
    "\n",
    "Now we test basic operations in the `Array` Class which include:\n",
    "- `length()` - Returns the number of elements in the array.\n",
    "- `append(item)` - Adds an item to the end of the array.\n",
    "- `insert(index, item)` - Inserts an item at a specific index.\n",
    "- `remove(item)` - Removes the first occurrence of the item.\n",
    "- `contains(item)` - Checks if an item exists in the array.\n",
    "- `clear()` - Clears all elements in the array.\n",
    "- `is_equal(other_array)` - Compares if two arrays are equal.\n",
    "- `concatenate(other_array)` - Concatenates another array to the current one.\n",
    "- `pop()` - Removes the last item from the array by default else you can specify index.\n",
    "- `delete(index)` - Removes an item at a specific index.\n",
    "\n",
    "# Example"
   ]
  },
  {
   "cell_type": "code",
   "execution_count": 5,
   "id": "c8135ee7-cb06-43e3-9a63-bca50d059675",
   "metadata": {},
   "outputs": [
    {
     "name": "stdout",
     "output_type": "stream",
     "text": [
      "Original array:\n",
      "Array([1, 2, 3, 4])\n",
      "\n",
      "Append 5\n",
      "Array([1, 2, 3, 4, 5])\n",
      "\n",
      "Insert at index 2 value 10\n",
      "Array([1, 2, 10, 3, 4, 5])\n",
      "\n",
      "Array contains 4: True\n",
      "\n",
      "Array contains 100: False\n",
      "\n",
      "Concatenate Array([1, 2, 10, 3, 4, 5]) and Array([6, 7])\n",
      "Array([1, 2, 10, 3, 4, 5, 6, 7])\n",
      "\n",
      "Delete item at index 4\n",
      "Array([1, 2, 10, 3, 5, 6, 7])\n",
      "\n",
      "Pop an item from the array\n",
      "7\n",
      "Array([1, 2, 10, 3, 5, 6])\n",
      "\n",
      "Clear the array\n",
      "Array([])\n",
      "\n",
      "Check if two arrays are equal\n",
      "True\n"
     ]
    }
   ],
   "source": [
    "# Create a new array\n",
    "arr = Array([1, 2, 3, 4])\n",
    "print(\"Original array:\")\n",
    "print(arr)\n",
    "\n",
    "# Append an item\n",
    "print(\"\\nAppend 5\")\n",
    "arr.append(5)\n",
    "print(arr)\n",
    "\n",
    "# Insert an item at a specific position\n",
    "print(\"\\nInsert at index 2 value 10\")\n",
    "arr.insert(2, 10)\n",
    "print(arr)\n",
    "\n",
    "# Check if it contains agiven item\n",
    "print(\"\\nArray contains 4:\",arr.contains(4))\n",
    "print(\"\\nArray contains 100:\",arr.contains(100))\n",
    "\n",
    "# Concatenate another array\n",
    "arr2 = Array([6, 7])\n",
    "print(f\"\\nConcatenate {arr} and {arr2}\")\n",
    "arr.concatenate(arr2)\n",
    "print(arr)\n",
    "\n",
    "# Delete an item at a specific index\n",
    "print(\"\\nDelete item at index 4\")\n",
    "arr.delete(4)\n",
    "print(arr)\n",
    "\n",
    "# Pop an item (remove the last element)\n",
    "print(\"\\nPop an item from the array\")\n",
    "popped_value = arr.pop()\n",
    "print(popped_value)\n",
    "print(arr)\n",
    "\n",
    "# Clear the array\n",
    "print(\"\\nClear the array\")\n",
    "arr.clear()\n",
    "print(arr)\n",
    "\n",
    "# Check if two arrays are equal\n",
    "print(\"\\nCheck if two arrays are equal\")\n",
    "arr3 = Array([1, 2, 3])\n",
    "arr4 = Array([1, 2, 3])\n",
    "print(arr3.is_equal(arr4))\n"
   ]
  },
  {
   "cell_type": "code",
   "execution_count": null,
   "id": "c8dc7a81-0739-47c5-abb8-53a3f7c36916",
   "metadata": {},
   "outputs": [],
   "source": []
  }
 ],
 "metadata": {
  "kernelspec": {
   "display_name": "Python 3 (ipykernel)",
   "language": "python",
   "name": "python3"
  },
  "language_info": {
   "codemirror_mode": {
    "name": "ipython",
    "version": 3
   },
   "file_extension": ".py",
   "mimetype": "text/x-python",
   "name": "python",
   "nbconvert_exporter": "python",
   "pygments_lexer": "ipython3",
   "version": "3.12.4"
  }
 },
 "nbformat": 4,
 "nbformat_minor": 5
}
