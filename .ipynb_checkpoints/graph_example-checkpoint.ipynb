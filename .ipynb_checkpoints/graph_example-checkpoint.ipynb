{
 "cells": [
  {
   "cell_type": "markdown",
   "id": "42341b25-acec-4ac9-8c9b-3a52d5cecb02",
   "metadata": {},
   "source": [
    "# Importing Graph"
   ]
  },
  {
   "cell_type": "code",
   "execution_count": 10,
   "id": "40e464e4-04a5-4cc5-a628-0799504bfa1e",
   "metadata": {},
   "outputs": [],
   "source": [
    "from ek_data_structures.graph import Graph"
   ]
  },
  {
   "cell_type": "markdown",
   "id": "a7cabb24-54d6-4e8f-a4af-f1f0c194ca9b",
   "metadata": {},
   "source": [
    "# Basic Operations Implementation In Graph\n",
    "The `Graph` class implements an **undirected graph** using an **adjacency list**.\n",
    "\n",
    "Now we test basic operations in the `Graph` Class which include\n",
    "- `add_vertex(vertex)` - Adds a vertex to the graph.\n",
    "- `add_edge(vertex1, vertex2)` - Adds an undirected edge between two vertices.\n",
    "- `remove_vertex(vertex)` - Removes a vertex and all edges associated with it.\n",
    "- `remove_edge(vertex1, vertex2)` - Removes the edge between two vertices.\n",
    "- `has_edge(vertex1, vertex2)` - Checks if an edge exists between two vertices.\n",
    "- `dfs(start_vertex, visited)` - Performs Depth-First Search from a starting vertex.\n",
    "- `bfs(start_vertex)` - Performs Breadth-First Search starting from a given vertex.\n",
    "- `find_path(start, end, path)` - Finds a path from start to end using DFS.\n",
    "- `display_graph()` - Displays the adjacency list of the graph.\n",
    "- `search(vertex)` - Searches for a vertex in the graph. Returns True if found, else False.\n",
    "\n",
    "\n",
    "# Example"
   ]
  },
  {
   "cell_type": "code",
   "execution_count": 11,
   "id": "3abb18bc-f113-4643-9a45-86cf7dc21a7c",
   "metadata": {},
   "outputs": [
    {
     "name": "stdout",
     "output_type": "stream",
     "text": [
      "Graph:\n",
      "{1: [2, 3], 2: [1, 4], 3: [1], 4: [2]}\n",
      "\n",
      "DFS starting from vertex 1:\n",
      "1 2 4 3 \n",
      "BFS starting from vertex 1:\n",
      "1 2 3 4 \n",
      "Path between 1 and 4: [1, 2, 4]\n",
      "\n",
      "Graph after removing edge (1, 3):\n",
      "{1: [2], 2: [1, 4], 3: [], 4: [2]}\n",
      "\n",
      "Graph after removing vertex 4:\n",
      "{1: [2], 2: [1], 3: []}\n"
     ]
    }
   ],
   "source": [
    "# Create a graph\n",
    "g = Graph()\n",
    "\n",
    "r\"\"\"\n",
    "1 -- 2\n",
    "|    |\n",
    "3    4\n",
    "\"\"\"\n",
    "# Add vertices and edges\n",
    "g.add_vertex(1)\n",
    "g.add_vertex(2)\n",
    "g.add_vertex(3)\n",
    "g.add_vertex(4)\n",
    "\n",
    "g.add_edge(1, 2)\n",
    "g.add_edge(1, 3)\n",
    "g.add_edge(2, 4)\n",
    "\n",
    "# Print the graph (Adjacency list)\n",
    "print(\"Graph:\")\n",
    "g.display_graph()\n",
    "\n",
    "# Perform DFS and BFS\n",
    "print(\"\\nDFS starting from vertex 1:\")\n",
    "g.dfs(1)\n",
    "print(\"\\nBFS starting from vertex 1:\")\n",
    "g.bfs(1)\n",
    "\n",
    "# Find a path between two vertices\n",
    "path = g.find_path(1, 4)\n",
    "print(\"\\nPath between 1 and 4:\", path)\n",
    "\n",
    "# Remove an edge and print the graph\n",
    "g.remove_edge(1, 3)\n",
    "print(\"\\nGraph after removing edge (1, 3):\")\n",
    "g.display_graph()\n",
    "\n",
    "\n",
    "# Remove a vertex and print the graph\n",
    "g.remove_vertex(4)\n",
    "print(\"\\nGraph after removing vertex 4:\")\n",
    "g.display_graph()\n"
   ]
  },
  {
   "cell_type": "code",
   "execution_count": null,
   "id": "25479257-a7ef-49f5-9bb4-976e7d9b4bbb",
   "metadata": {},
   "outputs": [],
   "source": []
  }
 ],
 "metadata": {
  "kernelspec": {
   "display_name": "Python 3 (ipykernel)",
   "language": "python",
   "name": "python3"
  },
  "language_info": {
   "codemirror_mode": {
    "name": "ipython",
    "version": 3
   },
   "file_extension": ".py",
   "mimetype": "text/x-python",
   "name": "python",
   "nbconvert_exporter": "python",
   "pygments_lexer": "ipython3",
   "version": "3.12.4"
  }
 },
 "nbformat": 4,
 "nbformat_minor": 5
}
