{
 "cells": [
  {
   "cell_type": "markdown",
   "id": "42341b25-acec-4ac9-8c9b-3a52d5cecb02",
   "metadata": {},
   "source": [
    "# Importing BinaryTree"
   ]
  },
  {
   "cell_type": "code",
   "execution_count": 13,
   "id": "40e464e4-04a5-4cc5-a628-0799504bfa1e",
   "metadata": {},
   "outputs": [],
   "source": [
    "from ek_data_structures.tree import BinaryTree"
   ]
  },
  {
   "cell_type": "markdown",
   "id": "a7cabb24-54d6-4e8f-a4af-f1f0c194ca9b",
   "metadata": {},
   "source": [
    "# Basic Operations Implementation In Binary Trees\n",
    "\n",
    "Now we test basic operations in the `BinaryTrees` Class which include\n",
    "- `insert(item)` - Inserts an item into the tree.\n",
    "- `search(item)` - Searches for an item in the tree returns True if exists else False.\n",
    "- `delete(item)` - Deletes an item from the tree.\n",
    "- `in_order()` - Traverses the tree in-order (left, root, right).\n",
    "- `pre_order()` - Traverses the tree pre-order (root, left, right).\n",
    "- `post_order()` - Traverses the tree post-order (root, right, left).\n",
    "\n",
    "# Example"
   ]
  },
  {
   "cell_type": "code",
   "execution_count": 15,
   "id": "3abb18bc-f113-4643-9a45-86cf7dc21a7c",
   "metadata": {},
   "outputs": [
    {
     "name": "stdout",
     "output_type": "stream",
     "text": [
      "Inorder:\n",
      "a b c d e f g h i j k \n",
      "\n",
      "Preorder:\n",
      "g c b a e d f i h j k \n",
      "\n",
      "Postorder:\n",
      "g i j k h c e f d b a \n",
      "\n",
      "Search:\n",
      "Does c exist? True\n",
      "Does z exist? False\n",
      "\n",
      "Delete a\n",
      "\n",
      "Inorder:\n",
      "b c d e f g h i j k \n",
      "\n",
      "Preorder:\n",
      "g c b e d f i h j k \n",
      "\n",
      "Postorder:\n",
      "g i j k h c e f d b \n"
     ]
    }
   ],
   "source": [
    "# Example usage:\n",
    "bt = BinaryTree()\n",
    "\n",
    "# We use this to test our functions\n",
    "r\"\"\" \n",
    "              g\n",
    "           /     \\\n",
    "          c       i\n",
    "         /  \\    /  \\\n",
    "        b    e   h   j \n",
    "       /    /  \\      \\\n",
    "      a    d    f      k \"\"\"\n",
    "\n",
    "# Add nodes\n",
    "bt.insert(\"g\")\n",
    "bt.insert(\"c\")\n",
    "bt.insert(\"b\")\n",
    "bt.insert(\"a\")\n",
    "bt.insert(\"e\")\n",
    "bt.insert(\"d\")\n",
    "bt.insert(\"f\")\n",
    "bt.insert(\"i\")\n",
    "bt.insert(\"h\")\n",
    "bt.insert(\"j\")\n",
    "bt.insert(\"k\")\n",
    "\n",
    "\n",
    "\n",
    "\n",
    "# Display the tree\n",
    "print(\"Inorder:\")\n",
    "bt.in_order()\n",
    "\n",
    "print(\"\\nPreorder:\")\n",
    "bt.pre_order()\n",
    "\n",
    "print(\"\\nPostorder:\")\n",
    "bt.post_order()\n",
    "\n",
    "print(\"\\nSearch:\")\n",
    "print(f'Does c exist? {bt.search(\"c\")}')\n",
    "print(f'Does z exist? {bt.search(\"z\")}')\n",
    "\n",
    "print(\"\\nDelete a\")\n",
    "bt.delete(\"a\")\n",
    "\n",
    "print(\"\\nInorder:\")\n",
    "bt.in_order()\n",
    "\n",
    "print(\"\\nPreorder:\")\n",
    "bt.pre_order()\n",
    "\n",
    "print(\"\\nPostorder:\")\n",
    "bt.post_order()"
   ]
  },
  {
   "cell_type": "code",
   "execution_count": null,
   "id": "294102f6-940b-43d6-a5d1-d6b3cfa7dace",
   "metadata": {},
   "outputs": [],
   "source": []
  }
 ],
 "metadata": {
  "kernelspec": {
   "display_name": "Python 3 (ipykernel)",
   "language": "python",
   "name": "python3"
  },
  "language_info": {
   "codemirror_mode": {
    "name": "ipython",
    "version": 3
   },
   "file_extension": ".py",
   "mimetype": "text/x-python",
   "name": "python",
   "nbconvert_exporter": "python",
   "pygments_lexer": "ipython3",
   "version": "3.12.4"
  }
 },
 "nbformat": 4,
 "nbformat_minor": 5
}
