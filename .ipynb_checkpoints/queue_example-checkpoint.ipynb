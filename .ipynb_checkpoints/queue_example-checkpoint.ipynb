{
 "cells": [
  {
   "cell_type": "markdown",
   "id": "ed268d51-8b19-4099-a15e-e9e6f591310c",
   "metadata": {},
   "source": [
    "# Importing Queue"
   ]
  },
  {
   "cell_type": "code",
   "execution_count": 1,
   "id": "ee7730a3-026c-4494-aad2-73ea1d8bba62",
   "metadata": {},
   "outputs": [],
   "source": [
    "# Adjust the sys.path to make sure the parent directory is included\n",
    "import sys\n",
    "import os\n",
    "\n",
    "# Add the parent directory (the one containing 'data_structures') to sys.path\n",
    "sys.path.append(os.path.abspath(os.path.join(os.getcwd(), '..', '..')))"
   ]
  },
  {
   "cell_type": "code",
   "execution_count": 2,
   "id": "d3814a57-0c0d-4a26-b3e0-57cab9a949a6",
   "metadata": {},
   "outputs": [],
   "source": [
    "from data_structures.data_structures.queue import Queue"
   ]
  },
  {
   "cell_type": "markdown",
   "id": "6a120007-0a9b-458f-84eb-0e1a60256c59",
   "metadata": {},
   "source": [
    "# Basic Operations Implementation In Queue\n",
    "\n",
    "Now we test basic operations in the `Queue` Class which include\n",
    "- enqueue()\n",
    "- dequeue()\n",
    "- peek()\n",
    "- front()\n",
    "- rear()\n",
    "- is_full()\n",
    "- is_empty()"
   ]
  },
  {
   "cell_type": "code",
   "execution_count": 5,
   "id": "fc451ce9-4f7b-417a-80ff-713d37aa4de4",
   "metadata": {},
   "outputs": [
    {
     "name": "stdout",
     "output_type": "stream",
     "text": [
      "[10, 20, 30]\n",
      "Error: Queue is full, cannot enqueue element\n",
      "Dequeued element: 10\n",
      "[20, 30]\n",
      "Front element: 30\n",
      "Rear element: 20\n",
      "Is the queue full? False\n",
      "Is the queue empty? False\n",
      "Is the queue empty now? True\n"
     ]
    }
   ],
   "source": [
    "# Create a queue with a max size of 3\n",
    "queue = Queue(max_size=3)\n",
    "\n",
    "# Enqueue elements\n",
    "queue.enqueue(10)\n",
    "queue.enqueue(20)\n",
    "queue.enqueue(30)\n",
    "queue.display_queue()\n",
    "\n",
    "# Try to enqueue when the queue is full\n",
    "try:\n",
    "    queue.enqueue(40) \n",
    "except OverflowError as e:\n",
    "    print(f\"Error: {e}\")\n",
    "\n",
    "# Dequeue an element\n",
    "dequeued_element = queue.dequeue()\n",
    "print(f\"Dequeued element: {dequeued_element}\")\n",
    "queue.display_queue()\n",
    "\n",
    "# Peek at the front element\n",
    "front_element = queue.peek()\n",
    "print(f\"Front element: {front_element}\")\n",
    "\n",
    "# Get the rear element\n",
    "rear_element = queue.rear()\n",
    "print(f\"Rear element: {rear_element}\")\n",
    "\n",
    "# Check if the queue is full\n",
    "print(f\"Is the queue full? {queue.is_full()}\") \n",
    "\n",
    "# Check if the queue is empty\n",
    "print(f\"Is the queue empty? {queue.is_empty()}\")\n",
    "\n",
    "# Check the size of the queue\n",
    "queue.dequeue()\n",
    "queue.dequeue()\n",
    "print(f\"Is the queue empty now? {queue.is_empty()}\")\n"
   ]
  },
  {
   "cell_type": "code",
   "execution_count": null,
   "id": "84212f93-dd7d-4766-b2d7-b6c874c4f795",
   "metadata": {},
   "outputs": [],
   "source": []
  }
 ],
 "metadata": {
  "kernelspec": {
   "display_name": "Python 3 (ipykernel)",
   "language": "python",
   "name": "python3"
  },
  "language_info": {
   "codemirror_mode": {
    "name": "ipython",
    "version": 3
   },
   "file_extension": ".py",
   "mimetype": "text/x-python",
   "name": "python",
   "nbconvert_exporter": "python",
   "pygments_lexer": "ipython3",
   "version": "3.12.4"
  }
 },
 "nbformat": 4,
 "nbformat_minor": 5
}
