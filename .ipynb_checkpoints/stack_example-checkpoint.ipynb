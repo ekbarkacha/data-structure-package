{
 "cells": [
  {
   "cell_type": "markdown",
   "id": "6fff8351-37d3-4888-8dae-3596f653e32d",
   "metadata": {},
   "source": [
    "# Importing Stack"
   ]
  },
  {
   "cell_type": "code",
   "execution_count": 10,
   "id": "e92b339f-0280-426d-a4b0-8c0485db228a",
   "metadata": {},
   "outputs": [],
   "source": [
    "from ek_data_structures.stack import Stack"
   ]
  },
  {
   "cell_type": "markdown",
   "id": "82f420d7-e299-4bc1-aa2c-4c527cc3c072",
   "metadata": {},
   "source": [
    "# Basic Operations Implementation In Stack\n",
    "\n",
    "Now we test basic operations in the `Stack` Class which include\n",
    "- `push(item)` - Adds an item to the top of the stack.\n",
    "- `pop()` - Removes and returns the top item.\n",
    "- `top()` - Returns the top item without removing it.\n",
    "- `size()` - Returns the number of items in the stack.\n",
    "- `is_empty()` - Checks if the stack is empty.\n",
    "- `display_stack()` - Displays the elements in the stack.\n",
    "\n",
    "# Example"
   ]
  },
  {
   "cell_type": "code",
   "execution_count": 11,
   "id": "e61b4c1c-a022-4c3c-8619-bc5553170dea",
   "metadata": {},
   "outputs": [
    {
     "name": "stdout",
     "output_type": "stream",
     "text": [
      "Pop from empty stack:\n",
      "Error: Cannot pop from an empty stack\n",
      "\n",
      "Push three items inorder 10,20,30:\n",
      "[10, 20, 30]\n",
      "\n",
      "Get the top element:\n",
      "Top element: 30\n",
      "\n",
      "Get the size of the stack:\n",
      "Stack size: 3\n",
      "\n",
      "Pop an element:\n",
      "Popped element: 30\n",
      "[10, 20]\n",
      "\n",
      "Get top element:\n",
      "New top element: 20\n",
      "\n",
      "Pop remaining elements:\n",
      "Popped element: 20\n",
      "Popped element: 10\n",
      "[]\n",
      "\n",
      "Check if the stack is empty:\n",
      "Is stack empty? True\n",
      "\n",
      "Get the size of the stack:\n",
      "Stack size: 0\n"
     ]
    }
   ],
   "source": [
    "# Create a stack\n",
    "my_stack = Stack()\n",
    "\n",
    "# Try to pop from an empty stack\n",
    "print(\"Pop from empty stack:\")\n",
    "try:\n",
    "    print(f\"Popped element: {my_stack.pop()}\")\n",
    "except IndexError as e:\n",
    "    print(f\"Error: {e}\")\n",
    "\n",
    "# Push elements onto the stack\n",
    "print(\"\\nPush three items inorder 10,20,30:\")\n",
    "my_stack.push(10)\n",
    "my_stack.push(20)\n",
    "my_stack.push(30)\n",
    "\n",
    "# Display the stack\n",
    "my_stack.display_stack()\n",
    "\n",
    "# Get the top element\n",
    "print(\"\\nGet the top element:\")\n",
    "print(f\"Top element: {my_stack.top()}\")\n",
    "\n",
    "# Get the size of the stack\n",
    "print(\"\\nGet the size of the stack:\")\n",
    "print(f\"Stack size: {my_stack.size()}\")\n",
    "\n",
    "# Pop an element\n",
    "print(\"\\nPop an element:\")\n",
    "print(f\"Popped element: {my_stack.pop()}\")\n",
    "\n",
    "# Display the stack after pop\n",
    "my_stack.display_stack()\n",
    "\n",
    "# Get the new top element\n",
    "print(\"\\nGet top element:\")\n",
    "print(f\"New top element: {my_stack.top()}\")\n",
    "\n",
    "# Pop remaining elements\n",
    "print(\"\\nPop remaining elements:\")\n",
    "print(f\"Popped element: {my_stack.pop()}\")\n",
    "print(f\"Popped element: {my_stack.pop()}\")\n",
    "\n",
    "# Display the stack after popping all elements\n",
    "my_stack.display_stack()\n",
    "\n",
    "# Check if the stack is empty\n",
    "print(\"\\nCheck if the stack is empty:\")\n",
    "print(f\"Is stack empty? {my_stack.is_empty()}\")\n",
    "\n",
    "# Get the size of the stack\n",
    "print(\"\\nGet the size of the stack:\")\n",
    "print(f\"Stack size: {my_stack.size()}\")\n"
   ]
  },
  {
   "cell_type": "code",
   "execution_count": null,
   "id": "da9c0351-f713-4357-b2d7-24c0357d39b8",
   "metadata": {},
   "outputs": [],
   "source": []
  }
 ],
 "metadata": {
  "kernelspec": {
   "display_name": "Python 3 (ipykernel)",
   "language": "python",
   "name": "python3"
  },
  "language_info": {
   "codemirror_mode": {
    "name": "ipython",
    "version": 3
   },
   "file_extension": ".py",
   "mimetype": "text/x-python",
   "name": "python",
   "nbconvert_exporter": "python",
   "pygments_lexer": "ipython3",
   "version": "3.12.4"
  }
 },
 "nbformat": 4,
 "nbformat_minor": 5
}
