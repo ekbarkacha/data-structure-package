{
 "cells": [
  {
   "cell_type": "markdown",
   "id": "0e29788e-1108-4895-945d-0e94636eefe2",
   "metadata": {},
   "source": [
    "# Importing Doubly Linked List"
   ]
  },
  {
   "cell_type": "code",
   "execution_count": 12,
   "id": "cbb76ea1-6d96-4301-8812-94ff83b4c58d",
   "metadata": {},
   "outputs": [],
   "source": [
    "from ek_data_structures.doubly_linked_list import DoublyLinkedList"
   ]
  },
  {
   "cell_type": "markdown",
   "id": "7ef1d07c-6123-44ff-bf21-4b538e55b983",
   "metadata": {},
   "source": [
    "# Basic Operations Implementation In  Doubly Linked List\n",
    "\n",
    "Now we test basic operations in the `DoublyLinkedList` Class which include\n",
    "- `insert_at_beginning(item)` - Inserts an item at the beginning of the list.\n",
    "- `insert_at(index, item)` - Inserts an item at a specific index.\n",
    "- `insert_at_end(item)` - Inserts an item at the end of the list.\n",
    "- `delete_item(index)` - Deletes the item at a specific index.\n",
    "- `display()` - Displays the entire list from start to end.\n",
    "- `search(item)` - Searches for an item in the list and returns `True` if it exists, `False` otherwise.\n",
    "- `get_length()` - Returns the number of nodes in the list.\n",
    "- `access(index)` - Accesses the node at a specific index and returns its data.\n",
    "- `update(index, item)` - Updates the node at a specific index with a new item.\n",
    "\n",
    "\n",
    "# Example"
   ]
  },
  {
   "cell_type": "code",
   "execution_count": 13,
   "id": "87abbc92-b04d-4c90-860d-79853f95a842",
   "metadata": {},
   "outputs": [
    {
     "name": "stdout",
     "output_type": "stream",
     "text": [
      "Insert at the beginning: 10,20,30\n",
      "30 <--> 20 <--> 10 <--> None\n",
      "\n",
      "Insert at the end: 40\n",
      "30 <--> 20 <--> 10 <--> 40 <--> None\n",
      "\n",
      "Insert at a specific index: index 2 value 25\n",
      "30 <--> 20 <--> 25 <--> 10 <--> 40 <--> None\n",
      "\n",
      "Delete item at index 3:\n",
      "30 <--> 20 <--> 25 <--> 40 <--> None\n",
      "\n",
      "Search for an item: 25 and 50\n",
      "True\n",
      "False\n",
      "\n",
      "Get the length of the list:\n",
      "4\n",
      "\n",
      "Access item at index 2:\n",
      "25\n",
      "\n",
      "Update item at index 1 to 35:\n",
      "30 <--> 35 <--> 25 <--> 40 <--> None\n"
     ]
    }
   ],
   "source": [
    "dll = DoublyLinkedList()\n",
    "\n",
    "# Insert at the beginning\n",
    "print(\"Insert at the beginning: 10,20,30\")\n",
    "dll.insert_at_beginning(10)  \n",
    "dll.insert_at_beginning(20) \n",
    "dll.insert_at_beginning(30)\n",
    "dll.display()\n",
    "\n",
    "# Insert at the end\n",
    "print(\"\\nInsert at the end: 40\")\n",
    "dll.insert_at_end(40)\n",
    "dll.display()\n",
    "\n",
    "# Insert at a specific\n",
    "print(\"\\nInsert at a specific index: index 2 value 25\")\n",
    "dll.insert_at(2, 25)\n",
    "dll.display()\n",
    "\n",
    "# Delete item\n",
    "print(\"\\nDelete item at index 3:\")\n",
    "dll.delete_item(3)\n",
    "dll.display()\n",
    "\n",
    "# Search for an item\n",
    "print(\"\\nSearch for an item: 25 and 50\")\n",
    "print(dll.search(25))\n",
    "print(dll.search(50))\n",
    "\n",
    "# Get the length of the list\n",
    "print(\"\\nGet the length of the list:\")\n",
    "print(dll.get_length())\n",
    "\n",
    "# Access item\n",
    "print(\"\\nAccess item at index 2:\")\n",
    "print(dll.access(2))\n",
    "\n",
    "# Update item at a given index\n",
    "print(\"\\nUpdate item at index 1 to 35:\")\n",
    "dll.update(1, 35)\n",
    "dll.display()"
   ]
  },
  {
   "cell_type": "code",
   "execution_count": null,
   "id": "e66dc3eb-00c5-436f-9e2e-ff54a5b33e66",
   "metadata": {},
   "outputs": [],
   "source": []
  }
 ],
 "metadata": {
  "kernelspec": {
   "display_name": "Python 3 (ipykernel)",
   "language": "python",
   "name": "python3"
  },
  "language_info": {
   "codemirror_mode": {
    "name": "ipython",
    "version": 3
   },
   "file_extension": ".py",
   "mimetype": "text/x-python",
   "name": "python",
   "nbconvert_exporter": "python",
   "pygments_lexer": "ipython3",
   "version": "3.12.4"
  }
 },
 "nbformat": 4,
 "nbformat_minor": 5
}
